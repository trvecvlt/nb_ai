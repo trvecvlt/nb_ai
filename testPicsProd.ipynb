{
 "cells": [
  {
   "cell_type": "code",
   "execution_count": 1,
   "metadata": {
    "gradient": {
     "editing": false,
     "id": "1a4ef340-ce0b-4d9e-9af1-a482828df5a0",
     "kernelId": "52932c84-9868-4da6-885c-4da2636e7011"
    }
   },
   "outputs": [],
   "source": [
    "import fastbook\n",
    "fastbook.setup_book()"
   ]
  },
  {
   "cell_type": "code",
   "execution_count": 2,
   "metadata": {
    "gradient": {
     "editing": false,
     "id": "922867ee-e4d3-4880-a33b-67fdffca7f9f",
     "kernelId": "52932c84-9868-4da6-885c-4da2636e7011"
    }
   },
   "outputs": [],
   "source": [
    "from fastbook import *\n",
    "from fastai.vision.widgets import *"
   ]
  },
  {
   "cell_type": "code",
   "execution_count": 4,
   "metadata": {},
   "outputs": [
    {
     "data": {
      "text/plain": [
       "(#1) [Path('export.pkl')]"
      ]
     },
     "execution_count": 4,
     "metadata": {},
     "output_type": "execute_result"
    }
   ],
   "source": [
    "path = Path()\n",
    "path.ls(file_exts='.pkl')"
   ]
  },
  {
   "cell_type": "code",
   "execution_count": 5,
   "metadata": {
    "gradient": {
     "id": "e02a6bfd-d8d5-4885-9dfb-fed9f61e803f",
     "kernelId": "52932c84-9868-4da6-885c-4da2636e7011"
    }
   },
   "outputs": [],
   "source": [
    "learn_inf = load_learner(path/'export.pkl')"
   ]
  },
  {
   "cell_type": "code",
   "execution_count": 6,
   "metadata": {
    "gradient": {
     "id": "98e6339a-991d-494f-8443-c7dd1fd090fc",
     "kernelId": "52932c84-9868-4da6-885c-4da2636e7011"
    }
   },
   "outputs": [
    {
     "data": {
      "text/plain": [
       "['1300', '1500', '577', '670', '998']"
      ]
     },
     "execution_count": 6,
     "metadata": {},
     "output_type": "execute_result"
    }
   ],
   "source": [
    "learn_inf.dls.vocab"
   ]
  },
  {
   "cell_type": "code",
   "execution_count": null,
   "metadata": {
    "gradient": {
     "id": "9478c0e2-794e-4a01-8321-6ffa751b1a05",
     "kernelId": "52932c84-9868-4da6-885c-4da2636e7011"
    }
   },
   "outputs": [],
   "source": [
    "btn_upload = widgets.FileUpload()\n",
    "btn_upload"
   ]
  },
  {
   "cell_type": "code",
   "execution_count": null,
   "metadata": {
    "gradient": {
     "id": "b1d84e18-2ef5-4cae-948f-b6d9893d1862",
     "kernelId": "52932c84-9868-4da6-885c-4da2636e7011"
    }
   },
   "outputs": [],
   "source": [
    "img = PILImage.create(btn_upload.data[-1])"
   ]
  },
  {
   "cell_type": "code",
   "execution_count": null,
   "metadata": {
    "gradient": {
     "id": "8490befa-9708-4cd9-b3b5-3b918a89000c",
     "kernelId": "52932c84-9868-4da6-885c-4da2636e7011"
    }
   },
   "outputs": [],
   "source": [
    "out_pl = widgets.Output()\n",
    "out_pl.clear_output()\n",
    "with out_pl: display(img.to_thumb(128,128))\n",
    "out_pl"
   ]
  },
  {
   "cell_type": "code",
   "execution_count": null,
   "metadata": {
    "gradient": {
     "id": "1e60f52c-8c87-41be-abc4-93684bac32be",
     "kernelId": "52932c84-9868-4da6-885c-4da2636e7011"
    }
   },
   "outputs": [],
   "source": [
    "pred,pred_idx,probs = learn_inf.predict(img)"
   ]
  },
  {
   "cell_type": "code",
   "execution_count": null,
   "metadata": {
    "gradient": {
     "id": "e4494605-19c4-4a11-8266-80cec3748231",
     "kernelId": "52932c84-9868-4da6-885c-4da2636e7011"
    }
   },
   "outputs": [],
   "source": [
    "lbl_pred = widgets.Label()\n",
    "lbl_pred.value = f'Prediction: {pred}; Probability: {probs[pred_idx]:.04f}'\n",
    "lbl_pred"
   ]
  },
  {
   "cell_type": "code",
   "execution_count": null,
   "metadata": {
    "gradient": {
     "id": "78ef4646-ea61-4f41-9c4a-b72df93accd6",
     "kernelId": "52932c84-9868-4da6-885c-4da2636e7011"
    }
   },
   "outputs": [],
   "source": [
    "btn_run = widgets.Button(description='Classify')\n",
    "btn_run"
   ]
  },
  {
   "cell_type": "code",
   "execution_count": null,
   "metadata": {
    "gradient": {
     "id": "57b26195-caaf-4392-be3d-dbdb6b25feee",
     "kernelId": "52932c84-9868-4da6-885c-4da2636e7011"
    }
   },
   "outputs": [],
   "source": [
    "def on_click_classify(change):\n",
    "    img = PILImage.create(btn_upload.data[-1])\n",
    "    out_pl.clear_output()\n",
    "    with out_pl: display(img.to_thumb(128,128))\n",
    "    pred,pred_idx,probs = learn_inf.predict(img)\n",
    "    lbl_pred.value = f'Prediction: {pred}; Probability: {probs[pred_idx]:.04f}'\n",
    "\n",
    "btn_run.on_click(on_click_classify)"
   ]
  },
  {
   "cell_type": "code",
   "execution_count": null,
   "metadata": {
    "gradient": {
     "id": "0d32e9de-56c2-487f-bd26-3eb081fb4b28",
     "kernelId": "52932c84-9868-4da6-885c-4da2636e7011"
    }
   },
   "outputs": [],
   "source": [
    "btn_upload = widgets.FileUpload()"
   ]
  },
  {
   "cell_type": "code",
   "execution_count": null,
   "metadata": {
    "gradient": {
     "id": "34552a7b-ff1d-4f13-8bda-7cfa979fd804",
     "kernelId": "52932c84-9868-4da6-885c-4da2636e7011"
    }
   },
   "outputs": [],
   "source": [
    "VBox([widgets.Label('Select nb'), \n",
    "      btn_upload, btn_run, out_pl, lbl_pred])"
   ]
  },
  {
   "cell_type": "code",
   "execution_count": null,
   "metadata": {
    "gradient": {
     "id": "68902d45-2cbf-4279-9b8f-923b91f32ba1",
     "kernelId": "52932c84-9868-4da6-885c-4da2636e7011"
    }
   },
   "outputs": [],
   "source": [
    "    !pip install voila\n"
   ]
  },
  {
   "cell_type": "code",
   "execution_count": null,
   "metadata": {
    "gradient": {
     "id": "b847ab89-f893-48d2-8f73-73ed21f5b926",
     "kernelId": "52932c84-9868-4da6-885c-4da2636e7011"
    }
   },
   "outputs": [],
   "source": [
    "!jupyter serverextension enable --sys-prefix voila"
   ]
  },
  {
   "cell_type": "code",
   "execution_count": null,
   "metadata": {
    "gradient": {
     "id": "30f19a22-5e70-4d16-bae8-d20012802345",
     "kernelId": "52932c84-9868-4da6-885c-4da2636e7011"
    }
   },
   "outputs": [],
   "source": []
  }
 ],
 "metadata": {
  "kernelspec": {
   "display_name": "Python 3",
   "language": "python",
   "name": "python3"
  },
  "language_info": {
   "codemirror_mode": {
    "name": "ipython",
    "version": 3
   },
   "file_extension": ".py",
   "mimetype": "text/x-python",
   "name": "python",
   "nbconvert_exporter": "python",
   "pygments_lexer": "ipython3",
   "version": "3.8.6"
  }
 },
 "nbformat": 4,
 "nbformat_minor": 4
}
